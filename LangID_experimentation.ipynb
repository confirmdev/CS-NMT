{
  "nbformat": 4,
  "nbformat_minor": 0,
  "metadata": {
    "colab": {
      "name": "LangID-experimentation.ipynb",
      "provenance": []
    },
    "kernelspec": {
      "name": "python3",
      "display_name": "Python 3"
    },
    "language_info": {
      "name": "python"
    }
  },
  "cells": [
    {
      "cell_type": "code",
      "metadata": {
        "colab": {
          "base_uri": "https://localhost:8080/"
        },
        "id": "birTXP6XfJ7u",
        "outputId": "c79e7db3-40e2-41ad-b174-fb2fe597b35b"
      },
      "source": [
        "!pip install langid"
      ],
      "execution_count": 1,
      "outputs": [
        {
          "output_type": "stream",
          "name": "stdout",
          "text": [
            "Collecting langid\n",
            "  Downloading langid-1.1.6.tar.gz (1.9 MB)\n",
            "\u001b[?25l\r\u001b[K     |▏                               | 10 kB 24.7 MB/s eta 0:00:01\r\u001b[K     |▍                               | 20 kB 32.2 MB/s eta 0:00:01\r\u001b[K     |▌                               | 30 kB 32.7 MB/s eta 0:00:01\r\u001b[K     |▊                               | 40 kB 35.9 MB/s eta 0:00:01\r\u001b[K     |▉                               | 51 kB 36.7 MB/s eta 0:00:01\r\u001b[K     |█                               | 61 kB 40.0 MB/s eta 0:00:01\r\u001b[K     |█▏                              | 71 kB 33.5 MB/s eta 0:00:01\r\u001b[K     |█▍                              | 81 kB 33.3 MB/s eta 0:00:01\r\u001b[K     |█▌                              | 92 kB 35.1 MB/s eta 0:00:01\r\u001b[K     |█▊                              | 102 kB 36.4 MB/s eta 0:00:01\r\u001b[K     |█▉                              | 112 kB 36.4 MB/s eta 0:00:01\r\u001b[K     |██                              | 122 kB 36.4 MB/s eta 0:00:01\r\u001b[K     |██▏                             | 133 kB 36.4 MB/s eta 0:00:01\r\u001b[K     |██▍                             | 143 kB 36.4 MB/s eta 0:00:01\r\u001b[K     |██▌                             | 153 kB 36.4 MB/s eta 0:00:01\r\u001b[K     |██▊                             | 163 kB 36.4 MB/s eta 0:00:01\r\u001b[K     |███                             | 174 kB 36.4 MB/s eta 0:00:01\r\u001b[K     |███                             | 184 kB 36.4 MB/s eta 0:00:01\r\u001b[K     |███▎                            | 194 kB 36.4 MB/s eta 0:00:01\r\u001b[K     |███▍                            | 204 kB 36.4 MB/s eta 0:00:01\r\u001b[K     |███▋                            | 215 kB 36.4 MB/s eta 0:00:01\r\u001b[K     |███▊                            | 225 kB 36.4 MB/s eta 0:00:01\r\u001b[K     |████                            | 235 kB 36.4 MB/s eta 0:00:01\r\u001b[K     |████                            | 245 kB 36.4 MB/s eta 0:00:01\r\u001b[K     |████▎                           | 256 kB 36.4 MB/s eta 0:00:01\r\u001b[K     |████▍                           | 266 kB 36.4 MB/s eta 0:00:01\r\u001b[K     |████▋                           | 276 kB 36.4 MB/s eta 0:00:01\r\u001b[K     |████▊                           | 286 kB 36.4 MB/s eta 0:00:01\r\u001b[K     |█████                           | 296 kB 36.4 MB/s eta 0:00:01\r\u001b[K     |█████                           | 307 kB 36.4 MB/s eta 0:00:01\r\u001b[K     |█████▎                          | 317 kB 36.4 MB/s eta 0:00:01\r\u001b[K     |█████▍                          | 327 kB 36.4 MB/s eta 0:00:01\r\u001b[K     |█████▋                          | 337 kB 36.4 MB/s eta 0:00:01\r\u001b[K     |█████▉                          | 348 kB 36.4 MB/s eta 0:00:01\r\u001b[K     |██████                          | 358 kB 36.4 MB/s eta 0:00:01\r\u001b[K     |██████▏                         | 368 kB 36.4 MB/s eta 0:00:01\r\u001b[K     |██████▎                         | 378 kB 36.4 MB/s eta 0:00:01\r\u001b[K     |██████▌                         | 389 kB 36.4 MB/s eta 0:00:01\r\u001b[K     |██████▋                         | 399 kB 36.4 MB/s eta 0:00:01\r\u001b[K     |██████▉                         | 409 kB 36.4 MB/s eta 0:00:01\r\u001b[K     |███████                         | 419 kB 36.4 MB/s eta 0:00:01\r\u001b[K     |███████▏                        | 430 kB 36.4 MB/s eta 0:00:01\r\u001b[K     |███████▎                        | 440 kB 36.4 MB/s eta 0:00:01\r\u001b[K     |███████▌                        | 450 kB 36.4 MB/s eta 0:00:01\r\u001b[K     |███████▋                        | 460 kB 36.4 MB/s eta 0:00:01\r\u001b[K     |███████▉                        | 471 kB 36.4 MB/s eta 0:00:01\r\u001b[K     |████████                        | 481 kB 36.4 MB/s eta 0:00:01\r\u001b[K     |████████▏                       | 491 kB 36.4 MB/s eta 0:00:01\r\u001b[K     |████████▍                       | 501 kB 36.4 MB/s eta 0:00:01\r\u001b[K     |████████▌                       | 512 kB 36.4 MB/s eta 0:00:01\r\u001b[K     |████████▊                       | 522 kB 36.4 MB/s eta 0:00:01\r\u001b[K     |████████▉                       | 532 kB 36.4 MB/s eta 0:00:01\r\u001b[K     |█████████                       | 542 kB 36.4 MB/s eta 0:00:01\r\u001b[K     |█████████▏                      | 552 kB 36.4 MB/s eta 0:00:01\r\u001b[K     |█████████▍                      | 563 kB 36.4 MB/s eta 0:00:01\r\u001b[K     |█████████▌                      | 573 kB 36.4 MB/s eta 0:00:01\r\u001b[K     |█████████▊                      | 583 kB 36.4 MB/s eta 0:00:01\r\u001b[K     |█████████▉                      | 593 kB 36.4 MB/s eta 0:00:01\r\u001b[K     |██████████                      | 604 kB 36.4 MB/s eta 0:00:01\r\u001b[K     |██████████▏                     | 614 kB 36.4 MB/s eta 0:00:01\r\u001b[K     |██████████▍                     | 624 kB 36.4 MB/s eta 0:00:01\r\u001b[K     |██████████▌                     | 634 kB 36.4 MB/s eta 0:00:01\r\u001b[K     |██████████▊                     | 645 kB 36.4 MB/s eta 0:00:01\r\u001b[K     |██████████▉                     | 655 kB 36.4 MB/s eta 0:00:01\r\u001b[K     |███████████                     | 665 kB 36.4 MB/s eta 0:00:01\r\u001b[K     |███████████▎                    | 675 kB 36.4 MB/s eta 0:00:01\r\u001b[K     |███████████▍                    | 686 kB 36.4 MB/s eta 0:00:01\r\u001b[K     |███████████▋                    | 696 kB 36.4 MB/s eta 0:00:01\r\u001b[K     |███████████▊                    | 706 kB 36.4 MB/s eta 0:00:01\r\u001b[K     |████████████                    | 716 kB 36.4 MB/s eta 0:00:01\r\u001b[K     |████████████                    | 727 kB 36.4 MB/s eta 0:00:01\r\u001b[K     |████████████▎                   | 737 kB 36.4 MB/s eta 0:00:01\r\u001b[K     |████████████▍                   | 747 kB 36.4 MB/s eta 0:00:01\r\u001b[K     |████████████▋                   | 757 kB 36.4 MB/s eta 0:00:01\r\u001b[K     |████████████▊                   | 768 kB 36.4 MB/s eta 0:00:01\r\u001b[K     |█████████████                   | 778 kB 36.4 MB/s eta 0:00:01\r\u001b[K     |█████████████                   | 788 kB 36.4 MB/s eta 0:00:01\r\u001b[K     |█████████████▎                  | 798 kB 36.4 MB/s eta 0:00:01\r\u001b[K     |█████████████▍                  | 808 kB 36.4 MB/s eta 0:00:01\r\u001b[K     |█████████████▋                  | 819 kB 36.4 MB/s eta 0:00:01\r\u001b[K     |█████████████▉                  | 829 kB 36.4 MB/s eta 0:00:01\r\u001b[K     |██████████████                  | 839 kB 36.4 MB/s eta 0:00:01\r\u001b[K     |██████████████▏                 | 849 kB 36.4 MB/s eta 0:00:01\r\u001b[K     |██████████████▎                 | 860 kB 36.4 MB/s eta 0:00:01\r\u001b[K     |██████████████▌                 | 870 kB 36.4 MB/s eta 0:00:01\r\u001b[K     |██████████████▋                 | 880 kB 36.4 MB/s eta 0:00:01\r\u001b[K     |██████████████▉                 | 890 kB 36.4 MB/s eta 0:00:01\r\u001b[K     |███████████████                 | 901 kB 36.4 MB/s eta 0:00:01\r\u001b[K     |███████████████▏                | 911 kB 36.4 MB/s eta 0:00:01\r\u001b[K     |███████████████▎                | 921 kB 36.4 MB/s eta 0:00:01\r\u001b[K     |███████████████▌                | 931 kB 36.4 MB/s eta 0:00:01\r\u001b[K     |███████████████▋                | 942 kB 36.4 MB/s eta 0:00:01\r\u001b[K     |███████████████▉                | 952 kB 36.4 MB/s eta 0:00:01\r\u001b[K     |████████████████                | 962 kB 36.4 MB/s eta 0:00:01\r\u001b[K     |████████████████▏               | 972 kB 36.4 MB/s eta 0:00:01\r\u001b[K     |████████████████▎               | 983 kB 36.4 MB/s eta 0:00:01\r\u001b[K     |████████████████▌               | 993 kB 36.4 MB/s eta 0:00:01\r\u001b[K     |████████████████▊               | 1.0 MB 36.4 MB/s eta 0:00:01\r\u001b[K     |████████████████▉               | 1.0 MB 36.4 MB/s eta 0:00:01\r\u001b[K     |█████████████████               | 1.0 MB 36.4 MB/s eta 0:00:01\r\u001b[K     |█████████████████▏              | 1.0 MB 36.4 MB/s eta 0:00:01\r\u001b[K     |█████████████████▍              | 1.0 MB 36.4 MB/s eta 0:00:01\r\u001b[K     |█████████████████▌              | 1.1 MB 36.4 MB/s eta 0:00:01\r\u001b[K     |█████████████████▊              | 1.1 MB 36.4 MB/s eta 0:00:01\r\u001b[K     |█████████████████▉              | 1.1 MB 36.4 MB/s eta 0:00:01\r\u001b[K     |██████████████████              | 1.1 MB 36.4 MB/s eta 0:00:01\r\u001b[K     |██████████████████▏             | 1.1 MB 36.4 MB/s eta 0:00:01\r\u001b[K     |██████████████████▍             | 1.1 MB 36.4 MB/s eta 0:00:01\r\u001b[K     |██████████████████▌             | 1.1 MB 36.4 MB/s eta 0:00:01\r\u001b[K     |██████████████████▊             | 1.1 MB 36.4 MB/s eta 0:00:01\r\u001b[K     |██████████████████▉             | 1.1 MB 36.4 MB/s eta 0:00:01\r\u001b[K     |███████████████████             | 1.1 MB 36.4 MB/s eta 0:00:01\r\u001b[K     |███████████████████▎            | 1.2 MB 36.4 MB/s eta 0:00:01\r\u001b[K     |███████████████████▍            | 1.2 MB 36.4 MB/s eta 0:00:01\r\u001b[K     |███████████████████▋            | 1.2 MB 36.4 MB/s eta 0:00:01\r\u001b[K     |███████████████████▊            | 1.2 MB 36.4 MB/s eta 0:00:01\r\u001b[K     |████████████████████            | 1.2 MB 36.4 MB/s eta 0:00:01\r\u001b[K     |████████████████████            | 1.2 MB 36.4 MB/s eta 0:00:01\r\u001b[K     |████████████████████▎           | 1.2 MB 36.4 MB/s eta 0:00:01\r\u001b[K     |████████████████████▍           | 1.2 MB 36.4 MB/s eta 0:00:01\r\u001b[K     |████████████████████▋           | 1.2 MB 36.4 MB/s eta 0:00:01\r\u001b[K     |████████████████████▊           | 1.2 MB 36.4 MB/s eta 0:00:01\r\u001b[K     |█████████████████████           | 1.3 MB 36.4 MB/s eta 0:00:01\r\u001b[K     |█████████████████████           | 1.3 MB 36.4 MB/s eta 0:00:01\r\u001b[K     |█████████████████████▎          | 1.3 MB 36.4 MB/s eta 0:00:01\r\u001b[K     |█████████████████████▍          | 1.3 MB 36.4 MB/s eta 0:00:01\r\u001b[K     |█████████████████████▋          | 1.3 MB 36.4 MB/s eta 0:00:01\r\u001b[K     |█████████████████████▊          | 1.3 MB 36.4 MB/s eta 0:00:01\r\u001b[K     |██████████████████████          | 1.3 MB 36.4 MB/s eta 0:00:01\r\u001b[K     |██████████████████████▏         | 1.3 MB 36.4 MB/s eta 0:00:01\r\u001b[K     |██████████████████████▎         | 1.3 MB 36.4 MB/s eta 0:00:01\r\u001b[K     |██████████████████████▌         | 1.4 MB 36.4 MB/s eta 0:00:01\r\u001b[K     |██████████████████████▋         | 1.4 MB 36.4 MB/s eta 0:00:01\r\u001b[K     |██████████████████████▉         | 1.4 MB 36.4 MB/s eta 0:00:01\r\u001b[K     |███████████████████████         | 1.4 MB 36.4 MB/s eta 0:00:01\r\u001b[K     |███████████████████████▏        | 1.4 MB 36.4 MB/s eta 0:00:01\r\u001b[K     |███████████████████████▎        | 1.4 MB 36.4 MB/s eta 0:00:01\r\u001b[K     |███████████████████████▌        | 1.4 MB 36.4 MB/s eta 0:00:01\r\u001b[K     |███████████████████████▋        | 1.4 MB 36.4 MB/s eta 0:00:01\r\u001b[K     |███████████████████████▉        | 1.4 MB 36.4 MB/s eta 0:00:01\r\u001b[K     |████████████████████████        | 1.4 MB 36.4 MB/s eta 0:00:01\r\u001b[K     |████████████████████████▏       | 1.5 MB 36.4 MB/s eta 0:00:01\r\u001b[K     |████████████████████████▎       | 1.5 MB 36.4 MB/s eta 0:00:01\r\u001b[K     |████████████████████████▌       | 1.5 MB 36.4 MB/s eta 0:00:01\r\u001b[K     |████████████████████████▊       | 1.5 MB 36.4 MB/s eta 0:00:01\r\u001b[K     |████████████████████████▉       | 1.5 MB 36.4 MB/s eta 0:00:01\r\u001b[K     |█████████████████████████       | 1.5 MB 36.4 MB/s eta 0:00:01\r\u001b[K     |█████████████████████████▏      | 1.5 MB 36.4 MB/s eta 0:00:01\r\u001b[K     |█████████████████████████▍      | 1.5 MB 36.4 MB/s eta 0:00:01\r\u001b[K     |█████████████████████████▌      | 1.5 MB 36.4 MB/s eta 0:00:01\r\u001b[K     |█████████████████████████▊      | 1.5 MB 36.4 MB/s eta 0:00:01\r\u001b[K     |█████████████████████████▉      | 1.6 MB 36.4 MB/s eta 0:00:01\r\u001b[K     |██████████████████████████      | 1.6 MB 36.4 MB/s eta 0:00:01\r\u001b[K     |██████████████████████████▏     | 1.6 MB 36.4 MB/s eta 0:00:01\r\u001b[K     |██████████████████████████▍     | 1.6 MB 36.4 MB/s eta 0:00:01\r\u001b[K     |██████████████████████████▌     | 1.6 MB 36.4 MB/s eta 0:00:01\r\u001b[K     |██████████████████████████▊     | 1.6 MB 36.4 MB/s eta 0:00:01\r\u001b[K     |██████████████████████████▉     | 1.6 MB 36.4 MB/s eta 0:00:01\r\u001b[K     |███████████████████████████     | 1.6 MB 36.4 MB/s eta 0:00:01\r\u001b[K     |███████████████████████████▏    | 1.6 MB 36.4 MB/s eta 0:00:01\r\u001b[K     |███████████████████████████▍    | 1.6 MB 36.4 MB/s eta 0:00:01\r\u001b[K     |███████████████████████████▋    | 1.7 MB 36.4 MB/s eta 0:00:01\r\u001b[K     |███████████████████████████▊    | 1.7 MB 36.4 MB/s eta 0:00:01\r\u001b[K     |████████████████████████████    | 1.7 MB 36.4 MB/s eta 0:00:01\r\u001b[K     |████████████████████████████    | 1.7 MB 36.4 MB/s eta 0:00:01\r\u001b[K     |████████████████████████████▎   | 1.7 MB 36.4 MB/s eta 0:00:01\r\u001b[K     |████████████████████████████▍   | 1.7 MB 36.4 MB/s eta 0:00:01\r\u001b[K     |████████████████████████████▋   | 1.7 MB 36.4 MB/s eta 0:00:01\r\u001b[K     |████████████████████████████▊   | 1.7 MB 36.4 MB/s eta 0:00:01\r\u001b[K     |█████████████████████████████   | 1.7 MB 36.4 MB/s eta 0:00:01\r\u001b[K     |█████████████████████████████   | 1.8 MB 36.4 MB/s eta 0:00:01\r\u001b[K     |█████████████████████████████▎  | 1.8 MB 36.4 MB/s eta 0:00:01\r\u001b[K     |█████████████████████████████▍  | 1.8 MB 36.4 MB/s eta 0:00:01\r\u001b[K     |█████████████████████████████▋  | 1.8 MB 36.4 MB/s eta 0:00:01\r\u001b[K     |█████████████████████████████▊  | 1.8 MB 36.4 MB/s eta 0:00:01\r\u001b[K     |██████████████████████████████  | 1.8 MB 36.4 MB/s eta 0:00:01\r\u001b[K     |██████████████████████████████▏ | 1.8 MB 36.4 MB/s eta 0:00:01\r\u001b[K     |██████████████████████████████▎ | 1.8 MB 36.4 MB/s eta 0:00:01\r\u001b[K     |██████████████████████████████▌ | 1.8 MB 36.4 MB/s eta 0:00:01\r\u001b[K     |██████████████████████████████▋ | 1.8 MB 36.4 MB/s eta 0:00:01\r\u001b[K     |██████████████████████████████▉ | 1.9 MB 36.4 MB/s eta 0:00:01\r\u001b[K     |███████████████████████████████ | 1.9 MB 36.4 MB/s eta 0:00:01\r\u001b[K     |███████████████████████████████▏| 1.9 MB 36.4 MB/s eta 0:00:01\r\u001b[K     |███████████████████████████████▎| 1.9 MB 36.4 MB/s eta 0:00:01\r\u001b[K     |███████████████████████████████▌| 1.9 MB 36.4 MB/s eta 0:00:01\r\u001b[K     |███████████████████████████████▋| 1.9 MB 36.4 MB/s eta 0:00:01\r\u001b[K     |███████████████████████████████▉| 1.9 MB 36.4 MB/s eta 0:00:01\r\u001b[K     |████████████████████████████████| 1.9 MB 36.4 MB/s eta 0:00:01\r\u001b[K     |████████████████████████████████| 1.9 MB 36.4 MB/s \n",
            "\u001b[?25hRequirement already satisfied: numpy in /usr/local/lib/python3.7/dist-packages (from langid) (1.19.5)\n",
            "Building wheels for collected packages: langid\n",
            "  Building wheel for langid (setup.py) ... \u001b[?25l\u001b[?25hdone\n",
            "  Created wheel for langid: filename=langid-1.1.6-py3-none-any.whl size=1941187 sha256=b19dcb6b5dc06d1ecf56632232b385752d7a5fdb46d23b5426b70f60f92e47dc\n",
            "  Stored in directory: /root/.cache/pip/wheels/2b/bb/7f/11e4db39477278161e882eadc46fb558949a28b13470fc74b8\n",
            "Successfully built langid\n",
            "Installing collected packages: langid\n",
            "Successfully installed langid-1.1.6\n"
          ]
        }
      ]
    },
    {
      "cell_type": "code",
      "metadata": {
        "colab": {
          "base_uri": "https://localhost:8080/"
        },
        "id": "FVHTJ29qgvVv",
        "outputId": "506ca6ff-e72e-4af2-e093-6504cf21c730"
      },
      "source": [
        "from langid import langid\n",
        "import nltk\n",
        "nltk.download('punkt')\n",
        "from nltk.tokenize import word_tokenize"
      ],
      "execution_count": 17,
      "outputs": [
        {
          "output_type": "stream",
          "name": "stdout",
          "text": [
            "[nltk_data] Downloading package punkt to /root/nltk_data...\n",
            "[nltk_data]   Unzipping tokenizers/punkt.zip.\n"
          ]
        }
      ]
    },
    {
      "cell_type": "code",
      "metadata": {
        "colab": {
          "base_uri": "https://localhost:8080/"
        },
        "id": "-oWT0kFAhD_3",
        "outputId": "b72f990b-2f9b-4f7f-e13d-fb60a707a4b2"
      },
      "source": [
        "text = \"I am here\"\n",
        "lang = langid.classify(text)\n",
        "print(lang)"
      ],
      "execution_count": 9,
      "outputs": [
        {
          "output_type": "stream",
          "name": "stdout",
          "text": [
            "('en', -6.440452575683594)\n"
          ]
        }
      ]
    },
    {
      "cell_type": "code",
      "metadata": {
        "colab": {
          "base_uri": "https://localhost:8080/"
        },
        "id": "yfUBMLJ-hYPY",
        "outputId": "eb492823-aecd-47b2-fbd3-199f5ae545c6"
      },
      "source": [
        "langid.rank(text)"
      ],
      "execution_count": 8,
      "outputs": [
        {
          "output_type": "execute_result",
          "data": {
            "text/plain": [
              "[('en', -6.440452575683594),\n",
              " ('de', -7.602324962615967),\n",
              " ('lb', -12.375750064849854),\n",
              " ('rw', -12.908110618591309),\n",
              " ('ro', -12.978541374206543),\n",
              " ('es', -13.397968292236328),\n",
              " ('cy', -13.39807653427124),\n",
              " ('it', -14.155198097229004),\n",
              " ('br', -14.201417922973633),\n",
              " ('da', -14.257980346679688),\n",
              " ('sq', -14.292641162872314),\n",
              " ('pt', -14.425897121429443),\n",
              " ('zh', -14.7821626663208),\n",
              " ('nl', -14.963902950286865),\n",
              " ('fr', -15.118206024169922),\n",
              " ('la', -15.191981315612793),\n",
              " ('ga', -15.509129524230957),\n",
              " ('id', -15.718591690063477),\n",
              " ('ku', -16.035820484161377),\n",
              " ('ms', -16.112281799316406),\n",
              " ('ar', -16.47485589981079),\n",
              " ('se', -16.542413115501404),\n",
              " ('ht', -16.566608428955078),\n",
              " ('af', -16.632877826690674),\n",
              " ('lo', -16.72516632080078),\n",
              " ('eo', -16.803476810455322),\n",
              " ('qu', -16.862179279327393),\n",
              " ('et', -17.037346363067627),\n",
              " ('is', -17.109008312225342),\n",
              " ('tl', -17.202204942703247),\n",
              " ('fo', -17.218571662902832),\n",
              " ('xh', -17.247032642364502),\n",
              " ('sw', -17.37736177444458),\n",
              " ('ca', -17.4716215133667),\n",
              " ('fi', -17.503075122833252),\n",
              " ('pl', -17.571733951568604),\n",
              " ('zu', -17.588393568992615),\n",
              " ('sk', -17.58853244781494),\n",
              " ('no', -17.795793533325195),\n",
              " ('oc', -17.838335514068604),\n",
              " ('lt', -17.883919715881348),\n",
              " ('vo', -17.90358543395996),\n",
              " ('eu', -17.94292974472046),\n",
              " ('an', -18.191827535629272),\n",
              " ('sl', -18.216227531433105),\n",
              " ('az', -18.26776361465454),\n",
              " ('ky', -18.278666853904724),\n",
              " ('jv', -18.318567276000977),\n",
              " ('mg', -18.375455617904663),\n",
              " ('am', -18.446274042129517),\n",
              " ('sv', -18.49656581878662),\n",
              " ('wa', -18.555734634399414),\n",
              " ('he', -18.707859992980957),\n",
              " ('tr', -18.713960647583008),\n",
              " ('bs', -18.748729705810547),\n",
              " ('cs', -18.791405200958252),\n",
              " ('mt', -18.895188808441162),\n",
              " ('ja', -18.956581592559814),\n",
              " ('hr', -19.072595596313477),\n",
              " ('vi', -19.160244941711426),\n",
              " ('hu', -19.196043014526367),\n",
              " ('ps', -19.208064794540405),\n",
              " ('ko', -19.281074047088623),\n",
              " ('si', -19.4760799407959),\n",
              " ('nn', -19.621694087982178),\n",
              " ('gl', -19.630711555480957),\n",
              " ('lv', -19.67984390258789),\n",
              " ('nb', -20.084763526916504),\n",
              " ('ur', -20.31675624847412),\n",
              " ('hy', -20.37030005455017),\n",
              " ('ka', -20.38150405883789),\n",
              " ('ug', -20.637948751449585),\n",
              " ('as', -20.7040274143219),\n",
              " ('kk', -20.95179271697998),\n",
              " ('bn', -21.105738162994385),\n",
              " ('te', -21.227734088897705),\n",
              " ('ml', -21.503944396972656),\n",
              " ('km', -21.536548614501953),\n",
              " ('el', -21.5390944480896),\n",
              " ('mr', -21.651798248291016),\n",
              " ('ta', -21.809651374816895),\n",
              " ('mn', -21.82218360900879),\n",
              " ('pa', -21.956848621368408),\n",
              " ('gu', -22.055011749267578),\n",
              " ('or', -22.127118587493896),\n",
              " ('ru', -22.254051685333252),\n",
              " ('th', -22.25720977783203),\n",
              " ('kn', -22.709735870361328),\n",
              " ('fa', -23.02943181991577),\n",
              " ('bg', -23.041354656219482),\n",
              " ('hi', -23.137099742889404),\n",
              " ('sr', -23.34225559234619),\n",
              " ('ne', -23.501477003097534),\n",
              " ('mk', -23.591594696044922),\n",
              " ('be', -24.063532829284668),\n",
              " ('uk', -24.129886150360107),\n",
              " ('dz', -24.359009265899658)]"
            ]
          },
          "metadata": {},
          "execution_count": 8
        }
      ]
    },
    {
      "cell_type": "code",
      "metadata": {
        "colab": {
          "base_uri": "https://localhost:8080/",
          "height": 35
        },
        "id": "aHLCcbGohp1w",
        "outputId": "0b27e2fd-575d-4cdb-9701-964bfc7c5b73"
      },
      "source": [
        "def getLang(s):\n",
        "  lang = langid.classify(s)  # Returns lang label (e.g. 'en', -4.3590) and probability\n",
        "  label = lang[0] # returns the last two chars like en or es\n",
        "  return label\n",
        "\n",
        "\n",
        "getLang(\"Je suis\")  # English!?!"
      ],
      "execution_count": 14,
      "outputs": [
        {
          "output_type": "execute_result",
          "data": {
            "application/vnd.google.colaboratory.intrinsic+json": {
              "type": "string"
            },
            "text/plain": [
              "'en'"
            ]
          },
          "metadata": {},
          "execution_count": 14
        }
      ]
    },
    {
      "cell_type": "code",
      "metadata": {
        "colab": {
          "base_uri": "https://localhost:8080/"
        },
        "id": "0cra03uHiD5E",
        "outputId": "9df16c24-c4f7-4de6-908a-36d9a975f7ba"
      },
      "source": [
        "text = \"This is AMMI, je suis le professeur!\"\n",
        "tokens = word_tokenize(text)\n",
        "l = []\n",
        "\n",
        "for i in range(len(tokens)):\n",
        "  lang_rank = langid.classify(tokens[i])\n",
        "  label = lang_rank[0]\n",
        "  l.append(label)\n",
        "\n",
        "print(l)"
      ],
      "execution_count": 19,
      "outputs": [
        {
          "output_type": "stream",
          "name": "stdout",
          "text": [
            "['en', 'en', 'en', 'en', 'en', 'en', 'en', 'fr', 'en']\n"
          ]
        }
      ]
    },
    {
      "cell_type": "code",
      "metadata": {
        "colab": {
          "base_uri": "https://localhost:8080/"
        },
        "id": "Z_R_dynZkvAw",
        "outputId": "59707502-dadf-4673-c4b6-c172439e16e2"
      },
      "source": [
        "from google.colab import drive\n",
        "drive.mount('/content/drive')"
      ],
      "execution_count": 20,
      "outputs": [
        {
          "output_type": "stream",
          "name": "stdout",
          "text": [
            "Mounted at /content/drive\n"
          ]
        }
      ]
    },
    {
      "cell_type": "code",
      "metadata": {
        "colab": {
          "base_uri": "https://localhost:8080/"
        },
        "id": "ui8mmGkVlbcG",
        "outputId": "150e8a3e-ec97-430f-f59b-2e4e2ce64e16"
      },
      "source": [
        "from tqdm import tqdm\n",
        "\n",
        "# Two lists to hold language specified in file and another for predicted languages\n",
        "original_list = []\n",
        "pred_list = []\n",
        "\n",
        "with open('/content/drive/MyDrive/lid_spaeng/train.conll') as f:\n",
        "  # num for number in enumerate and line for each line read\n",
        "  lines = f.readlines()\n",
        "  for num, line in tqdm(enumerate(lines), total=len(lines)):\n",
        "    # Lines that start with #, sent enums and hashtags\n",
        "    if (line[0] == '#'):\n",
        "      continue\n",
        "    elif (line == '\\n'):  # skip separator lines too\n",
        "      continue\n",
        "    else:\n",
        "      word, lang = line.split() # split lines to word and language\n",
        "      if ((lang == 'other') or (lang == 'ambiguous') or (lang == 'unk') or (lang == 'mixed') or (lang == 'fw') or (lang == 'ne')): # Skip tokens with other language tags too\n",
        "        continue\n",
        "      else:\n",
        "        pred_lang = getLang(word) # Use getLang to predict language of word and append it to a list\n",
        "        pred_list.append(pred_lang)\n",
        "        original_list.append(lang)  # A list to hold the languages as specified in the file"
      ],
      "execution_count": 21,
      "outputs": [
        {
          "output_type": "stream",
          "name": "stderr",
          "text": [
            "100%|██████████| 295281/295281 [04:30<00:00, 1091.25it/s]\n"
          ]
        }
      ]
    },
    {
      "cell_type": "code",
      "metadata": {
        "colab": {
          "base_uri": "https://localhost:8080/"
        },
        "id": "6BCeRjiRlsta",
        "outputId": "dedacfd1-a303-469f-b6fc-f775185dac5b"
      },
      "source": [
        "# Two lists to hold language specified in file and another for predicted languages\n",
        "devoriginal_list = []\n",
        "devpred_list = []\n",
        "\n",
        "with open('/content/drive/MyDrive/lid_spaeng/dev.conll') as dev:\n",
        "  # num for number in enumerate and line for each line read\n",
        "  lines = dev.readlines()\n",
        "  for num, line in tqdm(enumerate(lines), total=len(lines)):\n",
        "    # Lines that start with #, sent enums and hashtags\n",
        "    if (line[0] == '#'):\n",
        "      continue\n",
        "    elif (line == '\\n'):  # skip separator lines too\n",
        "      continue\n",
        "    else:\n",
        "      word, lang = line.split() # split lines to word and language\n",
        "      if ((lang == 'other') or (lang == 'ambiguous') or (lang == 'unk') or (lang == 'mixed') or (lang == 'fw') or (lang == 'ne')): # Skip tokens with other language tags too: # Skip tokens with other language tags too\n",
        "        continue\n",
        "      else:\n",
        "        pred_lang = getLang(word) # Use Fasttext to predict language of word and append it to a list\n",
        "        devpred_list.append(pred_lang)\n",
        "        devoriginal_list.append(lang)  # A list to hold the languages as specified in the file"
      ],
      "execution_count": 23,
      "outputs": [
        {
          "output_type": "stream",
          "name": "stderr",
          "text": [
            "100%|██████████| 47055/47055 [00:50<00:00, 935.16it/s]\n"
          ]
        }
      ]
    },
    {
      "cell_type": "code",
      "metadata": {
        "colab": {
          "base_uri": "https://localhost:8080/"
        },
        "id": "BaPTFJkolsxy",
        "outputId": "dea7a1af-9b0f-48f3-c510-3c01e77454ff"
      },
      "source": [
        "print(len(pred_list))\n",
        "print(len(original_list))\n",
        "\n",
        "print(len(devpred_list))\n",
        "print(len(devoriginal_list))"
      ],
      "execution_count": 24,
      "outputs": [
        {
          "output_type": "stream",
          "name": "stdout",
          "text": [
            "189265\n",
            "189265\n",
            "31405\n",
            "31405\n"
          ]
        }
      ]
    },
    {
      "cell_type": "code",
      "metadata": {
        "colab": {
          "base_uri": "https://localhost:8080/"
        },
        "id": "yRFl4DF3ls1h",
        "outputId": "18cde556-13ac-44c9-86e6-0a99d632d036"
      },
      "source": [
        "from sklearn.metrics import f1_score\n",
        "import numpy as np\n",
        "\n",
        "f1_train = f1_score(np.array(original_list), np.array(pred_list), average='micro')\n",
        "print(f1_train)"
      ],
      "execution_count": 25,
      "outputs": [
        {
          "output_type": "stream",
          "name": "stdout",
          "text": [
            "0.48773941299236523\n"
          ]
        }
      ]
    }
  ]
}