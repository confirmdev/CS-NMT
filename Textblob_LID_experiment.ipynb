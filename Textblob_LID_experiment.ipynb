{
  "nbformat": 4,
  "nbformat_minor": 0,
  "metadata": {
    "colab": {
      "name": "Textblob-LID-experiment.ipynb",
      "provenance": []
    },
    "kernelspec": {
      "name": "python3",
      "display_name": "Python 3"
    },
    "language_info": {
      "name": "python"
    }
  },
  "cells": [
    {
      "cell_type": "markdown",
      "metadata": {
        "id": "NzgqiU3zgrAD"
      },
      "source": [
        "Using TextBlob to detect Language"
      ]
    },
    {
      "cell_type": "code",
      "metadata": {
        "id": "ijrkNe3zY02A",
        "colab": {
          "base_uri": "https://localhost:8080/"
        },
        "outputId": "0daffe9b-15e2-41fd-8ed5-b6f89d64c39a"
      },
      "source": [
        "from textblob import TextBlob\n",
        "import nltk\n",
        "nltk.download('punkt')\n",
        "\n",
        "from nltk.tokenize import word_tokenize"
      ],
      "execution_count": 3,
      "outputs": [
        {
          "output_type": "stream",
          "text": [
            "[nltk_data] Downloading package punkt to /root/nltk_data...\n",
            "[nltk_data]   Package punkt is already up-to-date!\n"
          ],
          "name": "stdout"
        }
      ]
    },
    {
      "cell_type": "code",
      "metadata": {
        "colab": {
          "base_uri": "https://localhost:8080/"
        },
        "id": "zFdYHlw3iVyj",
        "outputId": "cc600485-a201-4496-92f2-80d549e42a5e"
      },
      "source": [
        "from textblob import TextBlob\n",
        "\n",
        "corpus = '''If you can force your heart and nerve and sinew to serve your turn long after they are gone. And so hold on when there is nothing in you except the Will which says to them: 'Hold on!'\n",
        "'''\n",
        "\n",
        "blob_object = TextBlob(corpus)\n",
        "\n",
        "# Word tokenization of the sample corpus\n",
        "corpus_words = blob_object.words\n",
        "# To see all tokens\n",
        "print(corpus_words)\n",
        "# To count the number of tokens\n",
        "print(len(corpus_words))"
      ],
      "execution_count": 4,
      "outputs": [
        {
          "output_type": "stream",
          "text": [
            "['If', 'you', 'can', 'force', 'your', 'heart', 'and', 'nerve', 'and', 'sinew', 'to', 'serve', 'your', 'turn', 'long', 'after', 'they', 'are', 'gone', 'And', 'so', 'hold', 'on', 'when', 'there', 'is', 'nothing', 'in', 'you', 'except', 'the', 'Will', 'which', 'says', 'to', 'them', \"'Hold\", 'on']\n",
            "38\n"
          ],
          "name": "stdout"
        }
      ]
    },
    {
      "cell_type": "code",
      "metadata": {
        "colab": {
          "base_uri": "https://localhost:8080/"
        },
        "id": "_ZlvpartemuF",
        "outputId": "95b38f3b-8188-4f4c-9626-0f0bbe578ac9"
      },
      "source": [
        "word1 = TextBlob('\"This is AMMI, je suis le francois!\"')\n",
        "t = word1.words # Tokenize word1\n",
        "z = word1.detect_language() # detect the language in word1 string\n",
        "print(t)\n",
        "print(z)"
      ],
      "execution_count": 5,
      "outputs": [
        {
          "output_type": "stream",
          "text": [
            "['This', 'is', 'AMMI', 'je', 'suis', 'le', 'francois']\n",
            "fr\n"
          ],
          "name": "stdout"
        }
      ]
    },
    {
      "cell_type": "code",
      "metadata": {
        "colab": {
          "base_uri": "https://localhost:8080/",
          "height": 35
        },
        "id": "CK9woq3tjuYT",
        "outputId": "41c6c934-0bb3-4b5b-df26-319ec22ab222"
      },
      "source": [
        "lang = TextBlob(' ب  ')\n",
        "lang.detect_language()"
      ],
      "execution_count": 6,
      "outputs": [
        {
          "output_type": "execute_result",
          "data": {
            "application/vnd.google.colaboratory.intrinsic+json": {
              "type": "string"
            },
            "text/plain": [
              "'ar'"
            ]
          },
          "metadata": {},
          "execution_count": 6
        }
      ]
    },
    {
      "cell_type": "code",
      "metadata": {
        "colab": {
          "base_uri": "https://localhost:8080/"
        },
        "id": "FvVuZuuWA-pS",
        "outputId": "e58c6214-1aab-4549-dd23-4253ef12ba61"
      },
      "source": [
        "# Return a list of all languages at token level for sentence\n",
        "l = []\n",
        "switch_points = []\n",
        "\n",
        "for i in range(len(t)):\n",
        "  word = TextBlob(t[i])\n",
        "  \n",
        "  # Textblob doesn't detect tokens with len < 3, so we add spaces before such token\n",
        "  if len(word) < 3:\n",
        "    word = TextBlob('  ') + word\n",
        "\n",
        "  lang = word.detect_language()\n",
        "  l.append(lang)\n",
        "\n",
        "\n",
        "# Points in the list where language got switched\n",
        "for i in range(len(l)):\n",
        "  if (i > 0) and (l[i] != l[i-1]):\n",
        "    switch_points.append(i)\n",
        "\n",
        "print(l)\n",
        "print(switch_points)"
      ],
      "execution_count": 25,
      "outputs": [
        {
          "output_type": "stream",
          "text": [
            "['en', 'en', 'hi', 'sl', 'fr', 'fr', 'en']\n",
            "[2, 3, 4, 6]\n"
          ],
          "name": "stdout"
        }
      ]
    },
    {
      "cell_type": "code",
      "metadata": {
        "colab": {
          "base_uri": "https://localhost:8080/"
        },
        "id": "Zs1avSTKoLk7",
        "outputId": "df6f4e7b-a31d-4b11-9174-f720f93e30bd"
      },
      "source": [
        "# All languages present\n",
        "languages = set(l)\n",
        "print(languages)"
      ],
      "execution_count": 19,
      "outputs": [
        {
          "output_type": "stream",
          "text": [
            "{'sl', 'fr', 'en', 'hi'}\n"
          ],
          "name": "stdout"
        }
      ]
    }
  ]
}