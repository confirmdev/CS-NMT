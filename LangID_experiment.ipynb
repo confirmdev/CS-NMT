{
  "nbformat": 4,
  "nbformat_minor": 0,
  "metadata": {
    "colab": {
      "name": "LangID-experiment.ipynb",
      "provenance": [],
      "collapsed_sections": []
    },
    "kernelspec": {
      "name": "python3",
      "display_name": "Python 3"
    },
    "language_info": {
      "name": "python"
    }
  },
  "cells": [
    {
      "cell_type": "code",
      "metadata": {
        "colab": {
          "base_uri": "https://localhost:8080/"
        },
        "id": "birTXP6XfJ7u",
        "outputId": "f0773a3d-4815-45cf-c26a-6edc8aeafc79"
      },
      "source": [
        "!pip install langid"
      ],
      "execution_count": 15,
      "outputs": [
        {
          "output_type": "stream",
          "name": "stdout",
          "text": [
            "Requirement already satisfied: langid in /usr/local/lib/python3.7/dist-packages (1.1.6)\n",
            "Requirement already satisfied: numpy in /usr/local/lib/python3.7/dist-packages (from langid) (1.19.5)\n"
          ]
        }
      ]
    },
    {
      "cell_type": "code",
      "metadata": {
        "colab": {
          "base_uri": "https://localhost:8080/"
        },
        "id": "FVHTJ29qgvVv",
        "outputId": "b4c6279f-477c-47e2-adca-94e8004be39c"
      },
      "source": [
        "from langid import langid\n",
        "import nltk\n",
        "nltk.download('punkt')\n",
        "from nltk.tokenize import word_tokenize"
      ],
      "execution_count": 16,
      "outputs": [
        {
          "output_type": "stream",
          "name": "stdout",
          "text": [
            "[nltk_data] Downloading package punkt to /root/nltk_data...\n",
            "[nltk_data]   Package punkt is already up-to-date!\n"
          ]
        }
      ]
    },
    {
      "cell_type": "code",
      "metadata": {
        "colab": {
          "base_uri": "https://localhost:8080/"
        },
        "id": "-oWT0kFAhD_3",
        "outputId": "aeda1a4b-d664-44f8-f223-a5b78854c1e3"
      },
      "source": [
        "text = \"I am here\"\n",
        "lang = langid.classify(text)\n",
        "print(lang)"
      ],
      "execution_count": 17,
      "outputs": [
        {
          "output_type": "stream",
          "name": "stdout",
          "text": [
            "('en', -6.440452575683594)\n"
          ]
        }
      ]
    },
    {
      "cell_type": "code",
      "metadata": {
        "colab": {
          "base_uri": "https://localhost:8080/"
        },
        "id": "yfUBMLJ-hYPY",
        "outputId": "818bf48c-101d-4db5-c453-acfb2eb4b334"
      },
      "source": [
        "langid.rank(text)"
      ],
      "execution_count": 18,
      "outputs": [
        {
          "output_type": "execute_result",
          "data": {
            "text/plain": [
              "[('en', -6.440452575683594),\n",
              " ('de', -7.602324962615967),\n",
              " ('lb', -12.375750064849854),\n",
              " ('rw', -12.908110618591309),\n",
              " ('ro', -12.978541374206543),\n",
              " ('es', -13.397968292236328),\n",
              " ('cy', -13.39807653427124),\n",
              " ('it', -14.155198097229004),\n",
              " ('br', -14.201417922973633),\n",
              " ('da', -14.257980346679688),\n",
              " ('sq', -14.292641162872314),\n",
              " ('pt', -14.425897121429443),\n",
              " ('zh', -14.7821626663208),\n",
              " ('nl', -14.963902950286865),\n",
              " ('fr', -15.118206024169922),\n",
              " ('la', -15.191981315612793),\n",
              " ('ga', -15.509129524230957),\n",
              " ('id', -15.718591690063477),\n",
              " ('ku', -16.035820484161377),\n",
              " ('ms', -16.112281799316406),\n",
              " ('ar', -16.47485589981079),\n",
              " ('se', -16.542413115501404),\n",
              " ('ht', -16.566608428955078),\n",
              " ('af', -16.632877826690674),\n",
              " ('lo', -16.72516632080078),\n",
              " ('eo', -16.803476810455322),\n",
              " ('qu', -16.862179279327393),\n",
              " ('et', -17.037346363067627),\n",
              " ('is', -17.109008312225342),\n",
              " ('tl', -17.202204942703247),\n",
              " ('fo', -17.218571662902832),\n",
              " ('xh', -17.247032642364502),\n",
              " ('sw', -17.37736177444458),\n",
              " ('ca', -17.4716215133667),\n",
              " ('fi', -17.503075122833252),\n",
              " ('pl', -17.571733951568604),\n",
              " ('zu', -17.588393568992615),\n",
              " ('sk', -17.58853244781494),\n",
              " ('no', -17.795793533325195),\n",
              " ('oc', -17.838335514068604),\n",
              " ('lt', -17.883919715881348),\n",
              " ('vo', -17.90358543395996),\n",
              " ('eu', -17.94292974472046),\n",
              " ('an', -18.191827535629272),\n",
              " ('sl', -18.216227531433105),\n",
              " ('az', -18.26776361465454),\n",
              " ('ky', -18.278666853904724),\n",
              " ('jv', -18.318567276000977),\n",
              " ('mg', -18.375455617904663),\n",
              " ('am', -18.446274042129517),\n",
              " ('sv', -18.49656581878662),\n",
              " ('wa', -18.555734634399414),\n",
              " ('he', -18.707859992980957),\n",
              " ('tr', -18.713960647583008),\n",
              " ('bs', -18.748729705810547),\n",
              " ('cs', -18.791405200958252),\n",
              " ('mt', -18.895188808441162),\n",
              " ('ja', -18.956581592559814),\n",
              " ('hr', -19.072595596313477),\n",
              " ('vi', -19.160244941711426),\n",
              " ('hu', -19.196043014526367),\n",
              " ('ps', -19.208064794540405),\n",
              " ('ko', -19.281074047088623),\n",
              " ('si', -19.4760799407959),\n",
              " ('nn', -19.621694087982178),\n",
              " ('gl', -19.630711555480957),\n",
              " ('lv', -19.67984390258789),\n",
              " ('nb', -20.084763526916504),\n",
              " ('ur', -20.31675624847412),\n",
              " ('hy', -20.37030005455017),\n",
              " ('ka', -20.38150405883789),\n",
              " ('ug', -20.637948751449585),\n",
              " ('as', -20.7040274143219),\n",
              " ('kk', -20.95179271697998),\n",
              " ('bn', -21.105738162994385),\n",
              " ('te', -21.227734088897705),\n",
              " ('ml', -21.503944396972656),\n",
              " ('km', -21.536548614501953),\n",
              " ('el', -21.5390944480896),\n",
              " ('mr', -21.651798248291016),\n",
              " ('ta', -21.809651374816895),\n",
              " ('mn', -21.82218360900879),\n",
              " ('pa', -21.956848621368408),\n",
              " ('gu', -22.055011749267578),\n",
              " ('or', -22.127118587493896),\n",
              " ('ru', -22.254051685333252),\n",
              " ('th', -22.25720977783203),\n",
              " ('kn', -22.709735870361328),\n",
              " ('fa', -23.02943181991577),\n",
              " ('bg', -23.041354656219482),\n",
              " ('hi', -23.137099742889404),\n",
              " ('sr', -23.34225559234619),\n",
              " ('ne', -23.501477003097534),\n",
              " ('mk', -23.591594696044922),\n",
              " ('be', -24.063532829284668),\n",
              " ('uk', -24.129886150360107),\n",
              " ('dz', -24.359009265899658)]"
            ]
          },
          "metadata": {},
          "execution_count": 18
        }
      ]
    },
    {
      "cell_type": "code",
      "metadata": {
        "colab": {
          "base_uri": "https://localhost:8080/",
          "height": 35
        },
        "id": "aHLCcbGohp1w",
        "outputId": "ffcd47e7-d35e-4695-b926-d5700e40b4ec"
      },
      "source": [
        "def getLang(s):\n",
        "  lang = langid.classify(s)  # Returns lang label (e.g. 'en', -4.3590) and probability. Higher is best rank!\n",
        "  label = lang[0] # returns just the part to label the language\n",
        "  return label\n",
        "\n",
        "getLang(\"Je suis\")  # English!?!"
      ],
      "execution_count": 19,
      "outputs": [
        {
          "output_type": "execute_result",
          "data": {
            "application/vnd.google.colaboratory.intrinsic+json": {
              "type": "string"
            },
            "text/plain": [
              "'en'"
            ]
          },
          "metadata": {},
          "execution_count": 19
        }
      ]
    },
    {
      "cell_type": "code",
      "metadata": {
        "colab": {
          "base_uri": "https://localhost:8080/"
        },
        "id": "0cra03uHiD5E",
        "outputId": "8a0a8a52-0f16-4d0e-b13d-5c20e3c08889"
      },
      "source": [
        "text = \"This is AMMI, je suis le professeur!\"\n",
        "tokens = word_tokenize(text)\n",
        "l = []\n",
        "\n",
        "for i in range(len(tokens)):\n",
        "  lang_rank = langid.classify(tokens[i])\n",
        "  label = lang_rank[0]\n",
        "  l.append(label)\n",
        "\n",
        "print(l)"
      ],
      "execution_count": 20,
      "outputs": [
        {
          "output_type": "stream",
          "name": "stdout",
          "text": [
            "['en', 'en', 'en', 'en', 'en', 'en', 'en', 'fr', 'en']\n"
          ]
        }
      ]
    },
    {
      "cell_type": "code",
      "metadata": {
        "colab": {
          "base_uri": "https://localhost:8080/"
        },
        "id": "Z_R_dynZkvAw",
        "outputId": "85865463-2777-434a-9fa3-fd1e5a318466"
      },
      "source": [
        "from google.colab import drive\n",
        "drive.mount('/content/drive')"
      ],
      "execution_count": 21,
      "outputs": [
        {
          "output_type": "stream",
          "name": "stdout",
          "text": [
            "Drive already mounted at /content/drive; to attempt to forcibly remount, call drive.mount(\"/content/drive\", force_remount=True).\n"
          ]
        }
      ]
    },
    {
      "cell_type": "code",
      "metadata": {
        "colab": {
          "base_uri": "https://localhost:8080/"
        },
        "id": "ui8mmGkVlbcG",
        "outputId": "b9b74f24-30d1-4469-f70c-72da531a7be4"
      },
      "source": [
        "from tqdm import tqdm\n",
        "\n",
        "# Two lists to hold language specified in file and another for predicted languages\n",
        "original_list = []\n",
        "pred_list = []\n",
        "\n",
        "with open('/content/drive/MyDrive/lid_spaeng/train.conll') as f:\n",
        "  # num for number in enumerate and line for each line read\n",
        "  lines = f.readlines()\n",
        "  for num, line in tqdm(enumerate(lines), total=len(lines)):\n",
        "    # Lines that start with #, sent enums and hashtags\n",
        "    if (line[0] == '#'):\n",
        "      continue\n",
        "    elif (line == '\\n'):  # skip separator lines too\n",
        "      continue\n",
        "    else:\n",
        "      word, lang = line.split() # split lines to word and language\n",
        "      if ((lang == 'other') or (lang == 'ambiguous') or (lang == 'unk') or (lang == 'mixed') or (lang == 'fw') or (lang == 'ne')): # Skip tokens with other language tags too\n",
        "        continue\n",
        "      else:\n",
        "        pred_lang = getLang(word) # Use getLang to predict language of word and append it to a list\n",
        "        pred_list.append(pred_lang)\n",
        "        original_list.append(lang)  # A list to hold the languages as specified in the file"
      ],
      "execution_count": 22,
      "outputs": [
        {
          "output_type": "stream",
          "name": "stderr",
          "text": [
            "100%|██████████| 295281/295281 [03:26<00:00, 1429.60it/s]\n"
          ]
        }
      ]
    },
    {
      "cell_type": "code",
      "metadata": {
        "colab": {
          "base_uri": "https://localhost:8080/"
        },
        "id": "6BCeRjiRlsta",
        "outputId": "6e798387-3e75-460c-a35c-29484d96125b"
      },
      "source": [
        "# Two lists to hold language specified in file and another for predicted languages\n",
        "devoriginal_list = []\n",
        "devpred_list = []\n",
        "\n",
        "with open('/content/drive/MyDrive/lid_spaeng/dev.conll') as dev:\n",
        "  # num for number in enumerate and line for each line read\n",
        "  lines = dev.readlines()\n",
        "  for num, line in tqdm(enumerate(lines), total=len(lines)):\n",
        "    # Lines that start with #, sent enums and hashtags\n",
        "    if (line[0] == '#'):\n",
        "      continue\n",
        "    elif (line == '\\n'):  # skip separator lines too\n",
        "      continue\n",
        "    else:\n",
        "      word, lang = line.split() # split lines to word and language\n",
        "      if ((lang == 'other') or (lang == 'ambiguous') or (lang == 'unk') or (lang == 'mixed') or (lang == 'fw') or (lang == 'ne')): # Skip tokens with other language tags too: # Skip tokens with other language tags too\n",
        "        continue\n",
        "      else:\n",
        "        pred_lang = getLang(word) # Use getLang to predict language of word and append it to a list\n",
        "        devpred_list.append(pred_lang)\n",
        "        devoriginal_list.append(lang)  # A list to hold the languages as specified in the file"
      ],
      "execution_count": 23,
      "outputs": [
        {
          "output_type": "stream",
          "name": "stderr",
          "text": [
            "100%|██████████| 47055/47055 [00:31<00:00, 1511.45it/s]\n"
          ]
        }
      ]
    },
    {
      "cell_type": "code",
      "metadata": {
        "colab": {
          "base_uri": "https://localhost:8080/"
        },
        "id": "BaPTFJkolsxy",
        "outputId": "23fbf532-9ac2-4ed3-e657-c8bdd25fd121"
      },
      "source": [
        "print(len(pred_list))\n",
        "print(len(original_list))\n",
        "\n",
        "print(len(devpred_list))\n",
        "print(len(devoriginal_list))"
      ],
      "execution_count": 24,
      "outputs": [
        {
          "output_type": "stream",
          "name": "stdout",
          "text": [
            "189265\n",
            "189265\n",
            "31405\n",
            "31405\n"
          ]
        }
      ]
    },
    {
      "cell_type": "code",
      "metadata": {
        "colab": {
          "base_uri": "https://localhost:8080/"
        },
        "id": "yRFl4DF3ls1h",
        "outputId": "b4d7a53d-7f63-410a-878f-0b719c1c856a"
      },
      "source": [
        "from sklearn.metrics import f1_score\n",
        "import numpy as np\n",
        "\n",
        "f1_train = f1_score(np.array(original_list), np.array(pred_list), average='micro')\n",
        "print(f1_train)"
      ],
      "execution_count": 25,
      "outputs": [
        {
          "output_type": "stream",
          "name": "stdout",
          "text": [
            "0.48773941299236523\n"
          ]
        }
      ]
    },
    {
      "cell_type": "code",
      "metadata": {
        "id": "2au30sUa2ao3"
      },
      "source": [
        "def compare(lang_class, pred_list, label_list):\n",
        "  '''\n",
        "  Args: Class of language, prediction list and true label list\n",
        "  Returns tp, fp and fn which will be used to compute Precision and Recall \n",
        "  '''\n",
        "  if (len(pred_list) != len(label_list)):\n",
        "    print(\"Lists are not the same length\")\n",
        "\n",
        "  list_len = len(pred_list)\n",
        "  correct = 0\n",
        "  fn = 0\n",
        "\n",
        "  for i in range(list_len):\n",
        "    if (pred_list[i] == label_list[i]):\n",
        "      correct += 1\n",
        "      \n",
        "  tp = correct\n",
        "  fp = list_len - correct\n",
        "\n",
        "  for i in range(list_len):\n",
        "    if ((pred_list[i] != lang_class) and (lang_class == label_list[i])):\n",
        "      fn += 1  \n",
        "\n",
        "  return tp, fp, fn\n",
        "\n",
        "# Compute Precision\n",
        "def precision(tp, fp):\n",
        "  return (tp)/(tp + fp)\n",
        "\n",
        "# Compute Recall\n",
        "def recall(tp, fn):\n",
        "  return (tp) / (tp + fn)\n",
        "\n",
        "def f1_score_lang(precision_num, recall_num):\n",
        "  return 2*((precision_num * recall_num)/(precision_num + recall_num)) "
      ],
      "execution_count": 26,
      "outputs": []
    },
    {
      "cell_type": "code",
      "metadata": {
        "colab": {
          "base_uri": "https://localhost:8080/"
        },
        "id": "j4OSfeT62c6X",
        "outputId": "66346bec-c7ca-4844-a7ff-a08442e3abb8"
      },
      "source": [
        "# English Class\n",
        "tp_en, fp_en, fn_en = compare('en', pred_list, original_list)\n",
        "precision_en = precision(tp_en, fp_en)\n",
        "recall_en = recall(tp_en, fn_en)\n",
        "\n",
        "f1_en = f1_score_lang(precision_en, recall_en)\n",
        "print(f1_en)"
      ],
      "execution_count": 27,
      "outputs": [
        {
          "output_type": "stream",
          "name": "stdout",
          "text": [
            "0.6453669654217761\n"
          ]
        }
      ]
    },
    {
      "cell_type": "code",
      "metadata": {
        "colab": {
          "base_uri": "https://localhost:8080/"
        },
        "id": "txHGC8l82imT",
        "outputId": "62244a88-9ba1-429b-fa1d-4865e69c9008"
      },
      "source": [
        "# Spanish Class\n",
        "\n",
        "tp_es, fp_es, fn_es = compare('es', pred_list, original_list)\n",
        "precision_es = precision(tp_es, fp_es)\n",
        "recall_es = recall(tp_es, fn_es)\n",
        "\n",
        "f1_es = f1_score_lang(precision_es, recall_es)\n",
        "print(f1_es)"
      ],
      "execution_count": 28,
      "outputs": [
        {
          "output_type": "stream",
          "name": "stdout",
          "text": [
            "0.4936061449452051\n"
          ]
        }
      ]
    }
  ]
}