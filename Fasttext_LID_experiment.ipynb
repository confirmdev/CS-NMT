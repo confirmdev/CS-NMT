{
  "nbformat": 4,
  "nbformat_minor": 0,
  "metadata": {
    "colab": {
      "name": "Fasttext-LID-experiment.ipynb",
      "provenance": []
    },
    "kernelspec": {
      "name": "python3",
      "display_name": "Python 3"
    },
    "language_info": {
      "name": "python"
    }
  },
  "cells": [
    {
      "cell_type": "markdown",
      "metadata": {
        "id": "anL9gOYHglJk"
      },
      "source": [
        "Using Fasttext to detect Language\n"
      ]
    },
    {
      "cell_type": "code",
      "metadata": {
        "colab": {
          "base_uri": "https://localhost:8080/"
        },
        "id": "Qrz-wOlnem1J",
        "outputId": "e47734c6-6c38-4791-e029-eb78e3dfce46"
      },
      "source": [
        "pip install fasttext"
      ],
      "execution_count": null,
      "outputs": [
        {
          "output_type": "stream",
          "text": [
            "Requirement already satisfied: fasttext in /usr/local/lib/python3.7/dist-packages (0.9.2)\n",
            "Requirement already satisfied: numpy in /usr/local/lib/python3.7/dist-packages (from fasttext) (1.19.5)\n",
            "Requirement already satisfied: setuptools>=0.7.0 in /usr/local/lib/python3.7/dist-packages (from fasttext) (57.4.0)\n",
            "Requirement already satisfied: pybind11>=2.2 in /usr/local/lib/python3.7/dist-packages (from fasttext) (2.7.1)\n"
          ],
          "name": "stdout"
        }
      ]
    },
    {
      "cell_type": "code",
      "metadata": {
        "colab": {
          "base_uri": "https://localhost:8080/"
        },
        "id": "7fmKZlmY_i0Y",
        "outputId": "9f56e834-d56c-4c13-fcb3-00c14c3e86cc"
      },
      "source": [
        "!wget https://dl.fbaipublicfiles.com/fasttext/supervised-models/lid.176.bin"
      ],
      "execution_count": null,
      "outputs": [
        {
          "output_type": "stream",
          "text": [
            "--2021-08-30 15:08:11--  https://dl.fbaipublicfiles.com/fasttext/supervised-models/lid.176.bin\n",
            "Resolving dl.fbaipublicfiles.com (dl.fbaipublicfiles.com)... 172.67.9.4, 104.22.74.142, 104.22.75.142, ...\n",
            "Connecting to dl.fbaipublicfiles.com (dl.fbaipublicfiles.com)|172.67.9.4|:443... connected.\n",
            "HTTP request sent, awaiting response... 200 OK\n",
            "Length: 131266198 (125M) [application/octet-stream]\n",
            "Saving to: ‘lid.176.bin’\n",
            "\n",
            "lid.176.bin         100%[===================>] 125.18M  53.2MB/s    in 2.4s    \n",
            "\n",
            "2021-08-30 15:08:14 (53.2 MB/s) - ‘lid.176.bin’ saved [131266198/131266198]\n",
            "\n"
          ],
          "name": "stdout"
        }
      ]
    },
    {
      "cell_type": "code",
      "metadata": {
        "colab": {
          "base_uri": "https://localhost:8080/"
        },
        "id": "_YupQOrijk4V",
        "outputId": "d0d8bb0b-9f25-4a08-a93b-0cc0041ed2a0"
      },
      "source": [
        "import fasttext\n",
        "import nltk\n",
        "nltk.download('punkt')\n",
        "from nltk.tokenize import word_tokenize\n",
        "fasttext.load_model(\"/content/lid.176.bin\")"
      ],
      "execution_count": null,
      "outputs": [
        {
          "output_type": "stream",
          "text": [
            "[nltk_data] Downloading package punkt to /root/nltk_data...\n",
            "[nltk_data]   Unzipping tokenizers/punkt.zip.\n"
          ],
          "name": "stdout"
        },
        {
          "output_type": "stream",
          "text": [
            "Warning : `load_model` does not return WordVectorModel or SupervisedModel any more, but a `FastText` object which is very similar.\n"
          ],
          "name": "stderr"
        },
        {
          "output_type": "execute_result",
          "data": {
            "text/plain": [
              "<fasttext.FastText._FastText at 0x7ff0b6f95c90>"
            ]
          },
          "metadata": {},
          "execution_count": 10
        }
      ]
    },
    {
      "cell_type": "code",
      "metadata": {
        "colab": {
          "base_uri": "https://localhost:8080/"
        },
        "id": "SfTWP5BF_D-U",
        "outputId": "6ce2508a-673e-45fe-de33-3f25c623c0b1"
      },
      "source": [
        "# Tokenize from nltk\n",
        "word_tokenize(\"This is AMMI, je suis le professeur!\")"
      ],
      "execution_count": null,
      "outputs": [
        {
          "output_type": "execute_result",
          "data": {
            "text/plain": [
              "['This', 'is', 'AMMI', ',', 'je', 'suis', 'le', 'professeur', '!']"
            ]
          },
          "metadata": {},
          "execution_count": 11
        }
      ]
    },
    {
      "cell_type": "code",
      "metadata": {
        "id": "CY-ajdrde307"
      },
      "source": [
        "class LanguageIdentification:\n",
        "\n",
        "    def __init__(self):\n",
        "        pretrained_lang_model = \"/content/lid.176.bin\"\n",
        "        self.model = fasttext.load_model(pretrained_lang_model)\n",
        "\n",
        "    def predict_lang(self, text):\n",
        "        predictions = self.model.predict(text)    # returns the language with highest probability\n",
        "        return predictions"
      ],
      "execution_count": null,
      "outputs": []
    },
    {
      "cell_type": "code",
      "metadata": {
        "colab": {
          "base_uri": "https://localhost:8080/"
        },
        "id": "eZNKEiVnjYL6",
        "outputId": "c06517ed-888f-47a6-b314-fde2ea518088"
      },
      "source": [
        "# Token level identification in Fastttext\n",
        "language = LanguageIdentification()\n",
        "\n",
        "text = \"This is AMMI, je suis le professeur!\"\n",
        "tokens = word_tokenize(text)\n",
        "l = []\n",
        "\n",
        "for i in range(len(tokens)):\n",
        "  lang = language.predict_lang(tokens[i])\n",
        "  l.append(lang)\n",
        "\n",
        "print(l)"
      ],
      "execution_count": null,
      "outputs": [
        {
          "output_type": "stream",
          "text": [
            "[(('__label__en',), array([0.75907272])), (('__label__en',), array([1.00001907])), (('__label__en',), array([0.4562701])), (('__label__ru',), array([0.23284227])), (('__label__sr',), array([0.83506095])), (('__label__fr',), array([0.99705434])), (('__label__fr',), array([0.83086872])), (('__label__fr',), array([0.98549277])), (('__label__fr',), array([0.3401244]))]\n"
          ],
          "name": "stdout"
        },
        {
          "output_type": "stream",
          "text": [
            "Warning : `load_model` does not return WordVectorModel or SupervisedModel any more, but a `FastText` object which is very similar.\n"
          ],
          "name": "stderr"
        }
      ]
    },
    {
      "cell_type": "code",
      "metadata": {
        "colab": {
          "base_uri": "https://localhost:8080/"
        },
        "id": "e8PJt9u8nqAV",
        "outputId": "b09954db-967d-4d36-e904-a3c92ea7e221"
      },
      "source": [
        "lang_label = [] # Let's create a list for only the language label and drop the probability or other languages returned\n",
        "\n",
        "for i in range(len(l)):\n",
        "  lang_label.append(l[i][0])\n",
        "\n",
        "print(lang_label)"
      ],
      "execution_count": null,
      "outputs": [
        {
          "output_type": "stream",
          "text": [
            "[('__label__en',), ('__label__en',), ('__label__en',), ('__label__ru',), ('__label__sr',), ('__label__fr',), ('__label__fr',), ('__label__fr',), ('__label__fr',)]\n"
          ],
          "name": "stdout"
        }
      ]
    },
    {
      "cell_type": "code",
      "metadata": {
        "id": "2cjyXAJKoxeS"
      },
      "source": [
        "# Points in the list where language got switched\n",
        "# switch_points = []\n",
        "# for i in range(len(lang_label)):\n",
        "#   if (i > 0) and (l[i] != l[i-1]):\n",
        "#     switch_points.append(i)\n",
        "\n",
        "# print(switch_points)"
      ],
      "execution_count": null,
      "outputs": []
    },
    {
      "cell_type": "code",
      "metadata": {
        "colab": {
          "base_uri": "https://localhost:8080/"
        },
        "id": "pE8Z9BgXpDic",
        "outputId": "53ff7d00-b797-43a6-9ec8-61a048eaa2f0"
      },
      "source": [
        "lang_label[0]"
      ],
      "execution_count": null,
      "outputs": [
        {
          "output_type": "execute_result",
          "data": {
            "text/plain": [
              "('__label__en',)"
            ]
          },
          "metadata": {},
          "execution_count": 27
        }
      ]
    },
    {
      "cell_type": "code",
      "metadata": {
        "colab": {
          "base_uri": "https://localhost:8080/"
        },
        "id": "QhliSRTkAFSK",
        "outputId": "6b7207df-acb2-49fd-e6a0-6264ec27dc6c"
      },
      "source": [
        "dir(language.model)"
      ],
      "execution_count": null,
      "outputs": [
        {
          "output_type": "execute_result",
          "data": {
            "text/plain": [
              "['__class__',\n",
              " '__contains__',\n",
              " '__delattr__',\n",
              " '__dict__',\n",
              " '__dir__',\n",
              " '__doc__',\n",
              " '__eq__',\n",
              " '__format__',\n",
              " '__ge__',\n",
              " '__getattribute__',\n",
              " '__getitem__',\n",
              " '__gt__',\n",
              " '__hash__',\n",
              " '__init__',\n",
              " '__init_subclass__',\n",
              " '__le__',\n",
              " '__lt__',\n",
              " '__module__',\n",
              " '__ne__',\n",
              " '__new__',\n",
              " '__reduce__',\n",
              " '__reduce_ex__',\n",
              " '__repr__',\n",
              " '__setattr__',\n",
              " '__sizeof__',\n",
              " '__str__',\n",
              " '__subclasshook__',\n",
              " '__weakref__',\n",
              " '_labels',\n",
              " '_words',\n",
              " 'f',\n",
              " 'get_analogies',\n",
              " 'get_dimension',\n",
              " 'get_input_matrix',\n",
              " 'get_input_vector',\n",
              " 'get_label_id',\n",
              " 'get_labels',\n",
              " 'get_line',\n",
              " 'get_meter',\n",
              " 'get_nearest_neighbors',\n",
              " 'get_output_matrix',\n",
              " 'get_sentence_vector',\n",
              " 'get_subword_id',\n",
              " 'get_subwords',\n",
              " 'get_word_id',\n",
              " 'get_word_vector',\n",
              " 'get_words',\n",
              " 'is_quantized',\n",
              " 'labels',\n",
              " 'predict',\n",
              " 'quantize',\n",
              " 'save_model',\n",
              " 'set_args',\n",
              " 'set_matrices',\n",
              " 'test',\n",
              " 'test_label',\n",
              " 'words']"
            ]
          },
          "metadata": {},
          "execution_count": 17
        }
      ]
    }
  ]
}