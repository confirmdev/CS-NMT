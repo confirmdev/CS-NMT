{
  "nbformat": 4,
  "nbformat_minor": 0,
  "metadata": {
    "colab": {
      "name": "Fasttext-Lince-Benchmark.ipynb",
      "provenance": []
    },
    "kernelspec": {
      "name": "python3",
      "display_name": "Python 3"
    },
    "language_info": {
      "name": "python"
    },
    "accelerator": "GPU"
  },
  "cells": [
    {
      "cell_type": "markdown",
      "metadata": {
        "id": "anL9gOYHglJk"
      },
      "source": [
        "Using Fasttext to detect Language\n"
      ]
    },
    {
      "cell_type": "code",
      "metadata": {
        "colab": {
          "base_uri": "https://localhost:8080/"
        },
        "id": "Qrz-wOlnem1J",
        "outputId": "ca02a7d2-fd1c-45e0-8f17-7c51a4981f8f"
      },
      "source": [
        "!pip install fasttext"
      ],
      "execution_count": 4,
      "outputs": [
        {
          "output_type": "stream",
          "name": "stdout",
          "text": [
            "Collecting fasttext\n",
            "  Downloading fasttext-0.9.2.tar.gz (68 kB)\n",
            "\u001b[K     |████████████████████████████████| 68 kB 2.3 MB/s \n",
            "\u001b[?25hCollecting pybind11>=2.2\n",
            "  Using cached pybind11-2.7.1-py2.py3-none-any.whl (200 kB)\n",
            "Requirement already satisfied: setuptools>=0.7.0 in /usr/local/lib/python3.7/dist-packages (from fasttext) (57.4.0)\n",
            "Requirement already satisfied: numpy in /usr/local/lib/python3.7/dist-packages (from fasttext) (1.19.5)\n",
            "Building wheels for collected packages: fasttext\n",
            "  Building wheel for fasttext (setup.py) ... \u001b[?25l\u001b[?25hdone\n",
            "  Created wheel for fasttext: filename=fasttext-0.9.2-cp37-cp37m-linux_x86_64.whl size=3092527 sha256=ddeba3aba6e6916e44d46bca9862ed87a33fb12e8f9d383f34230294b42706df\n",
            "  Stored in directory: /root/.cache/pip/wheels/4e/ca/bf/b020d2be95f7641801a6597a29c8f4f19e38f9c02a345bab9b\n",
            "Successfully built fasttext\n",
            "Installing collected packages: pybind11, fasttext\n",
            "Successfully installed fasttext-0.9.2 pybind11-2.7.1\n"
          ]
        }
      ]
    },
    {
      "cell_type": "code",
      "metadata": {
        "colab": {
          "base_uri": "https://localhost:8080/"
        },
        "id": "7fmKZlmY_i0Y",
        "outputId": "d78927db-ec54-48af-f361-972251b99520"
      },
      "source": [
        "!wget https://dl.fbaipublicfiles.com/fasttext/supervised-models/lid.176.bin"
      ],
      "execution_count": 5,
      "outputs": [
        {
          "output_type": "stream",
          "name": "stdout",
          "text": [
            "--2021-08-31 22:06:38--  https://dl.fbaipublicfiles.com/fasttext/supervised-models/lid.176.bin\n",
            "Resolving dl.fbaipublicfiles.com (dl.fbaipublicfiles.com)... 104.22.74.142, 172.67.9.4, 104.22.75.142, ...\n",
            "Connecting to dl.fbaipublicfiles.com (dl.fbaipublicfiles.com)|104.22.74.142|:443... connected.\n",
            "HTTP request sent, awaiting response... 200 OK\n",
            "Length: 131266198 (125M) [application/octet-stream]\n",
            "Saving to: ‘lid.176.bin’\n",
            "\n",
            "lid.176.bin         100%[===================>] 125.18M  23.6MB/s    in 6.0s    \n",
            "\n",
            "2021-08-31 22:06:44 (20.9 MB/s) - ‘lid.176.bin’ saved [131266198/131266198]\n",
            "\n"
          ]
        }
      ]
    },
    {
      "cell_type": "code",
      "metadata": {
        "colab": {
          "base_uri": "https://localhost:8080/"
        },
        "id": "_YupQOrijk4V",
        "outputId": "8ac7ad9f-5187-402c-f73f-19ba93f0060f"
      },
      "source": [
        "import fasttext\n",
        "import nltk\n",
        "nltk.download('punkt')\n",
        "from nltk.tokenize import word_tokenize\n",
        "fasttext.load_model(\"/content/lid.176.bin\")"
      ],
      "execution_count": 6,
      "outputs": [
        {
          "output_type": "stream",
          "name": "stdout",
          "text": [
            "[nltk_data] Downloading package punkt to /root/nltk_data...\n",
            "[nltk_data]   Unzipping tokenizers/punkt.zip.\n"
          ]
        },
        {
          "output_type": "stream",
          "name": "stderr",
          "text": [
            "Warning : `load_model` does not return WordVectorModel or SupervisedModel any more, but a `FastText` object which is very similar.\n"
          ]
        },
        {
          "output_type": "execute_result",
          "data": {
            "text/plain": [
              "<fasttext.FastText._FastText at 0x7fda87dfedd0>"
            ]
          },
          "metadata": {},
          "execution_count": 6
        }
      ]
    },
    {
      "cell_type": "code",
      "metadata": {
        "id": "SfTWP5BF_D-U"
      },
      "source": [
        "# Tokenize from nltk\n",
        "# word_tokenize(\"This is AMMI, je suis le professeur!\")"
      ],
      "execution_count": 5,
      "outputs": []
    },
    {
      "cell_type": "code",
      "metadata": {
        "id": "WrZvzXHpAB2P",
        "outputId": "29ad3706-45d9-4852-ca46-9fd97f51e6e1",
        "colab": {
          "base_uri": "https://localhost:8080/"
        }
      },
      "source": [
        "from google.colab import drive\n",
        "drive.mount('/content/drive')"
      ],
      "execution_count": 7,
      "outputs": [
        {
          "output_type": "stream",
          "name": "stdout",
          "text": [
            "Drive already mounted at /content/drive; to attempt to forcibly remount, call drive.mount(\"/content/drive\", force_remount=True).\n"
          ]
        }
      ]
    },
    {
      "cell_type": "code",
      "metadata": {
        "id": "CY-ajdrde307",
        "colab": {
          "base_uri": "https://localhost:8080/"
        },
        "outputId": "07c93432-d8af-4fae-c977-81e28cf024cb"
      },
      "source": [
        "class LanguageIdentification:\n",
        "\n",
        "    def __init__(self):\n",
        "        pretrained_lang_model = \"/content/lid.176.bin\"\n",
        "        self.model = fasttext.load_model(pretrained_lang_model)\n",
        "\n",
        "    def predict_lang(self, text):\n",
        "        predictions = self.model.predict(text)    # returns the language with highest probability\n",
        "        return predictions\n",
        "\n",
        "language = LanguageIdentification()"
      ],
      "execution_count": 8,
      "outputs": [
        {
          "output_type": "stream",
          "name": "stderr",
          "text": [
            "Warning : `load_model` does not return WordVectorModel or SupervisedModel any more, but a `FastText` object which is very similar.\n"
          ]
        }
      ]
    },
    {
      "cell_type": "code",
      "metadata": {
        "id": "F41Vq-wUnWY3"
      },
      "source": [
        "lid = LanguageIdentification()\n",
        "def getLang(lid, word):\n",
        "  # Token level identification in Fastttext\n",
        "  lang = language.predict_lang(word)  # Returns lang label (e.g. label_en) and probability\n",
        "  label = lang[0][0][-2::] # returns the last two chars like en or es\n",
        "  return label"
      ],
      "execution_count": 11,
      "outputs": []
    },
    {
      "cell_type": "code",
      "metadata": {
        "colab": {
          "base_uri": "https://localhost:8080/",
          "height": 72
        },
        "id": "FI0YToWM9xIs",
        "outputId": "324fe26d-f776-48cd-dbe6-302c7c836a0d"
      },
      "source": [
        "text = \"Esta\"\n",
        "getLang(lid, text)"
      ],
      "execution_count": 11,
      "outputs": [
        {
          "output_type": "stream",
          "name": "stderr",
          "text": [
            "Warning : `load_model` does not return WordVectorModel or SupervisedModel any more, but a `FastText` object which is very similar.\n"
          ]
        },
        {
          "output_type": "execute_result",
          "data": {
            "application/vnd.google.colaboratory.intrinsic+json": {
              "type": "string"
            },
            "text/plain": [
              "'es'"
            ]
          },
          "metadata": {},
          "execution_count": 11
        }
      ]
    },
    {
      "cell_type": "code",
      "metadata": {
        "colab": {
          "base_uri": "https://localhost:8080/"
        },
        "id": "tgNuS2WZJH4t",
        "outputId": "314abd38-2483-49fe-cb2f-5c1fd6cee131"
      },
      "source": [
        "from tqdm import tqdm\n",
        "\n",
        "# Two lists to hold language specified in file and another for predicted languages\n",
        "original_list = []\n",
        "pred_list = []\n",
        "lid = LanguageIdentification()\n",
        "with open('/content/drive/MyDrive/lid_spaeng/train.conll') as f:\n",
        "  # num for number in enumerate and line for each line read\n",
        "  lines = f.readlines()\n",
        "  for num, line in tqdm(enumerate(lines), total=len(lines)):\n",
        "    # Lines that start with #, sent enums and hashtags\n",
        "    if (line[0] == '#'):\n",
        "      continue\n",
        "    elif (line == '\\n'):  # skip separator lines too\n",
        "      continue\n",
        "    else:\n",
        "      word, lang = line.split() # split lines to word and language\n",
        "      if ((lang == 'other') or (lang == 'ambiguous') or (lang == 'unk') or (lang == 'mixed') or (lang == 'fw') or (lang == 'ne')): # Skip tokens with other language tags too\n",
        "        continue\n",
        "      else:\n",
        "        pred_lang = getLang(lid, word) # Use Fasttext to predict language of word and append it to a list\n",
        "        pred_list.append(pred_lang)\n",
        "        original_list.append(lang)  # A list to hold the languages as specified in the file"
      ],
      "execution_count": 12,
      "outputs": [
        {
          "output_type": "stream",
          "name": "stderr",
          "text": [
            "Warning : `load_model` does not return WordVectorModel or SupervisedModel any more, but a `FastText` object which is very similar.\n",
            "100%|██████████| 295281/295281 [00:03<00:00, 89224.82it/s]\n"
          ]
        }
      ]
    },
    {
      "cell_type": "code",
      "metadata": {
        "id": "X5-rVUpI90k8",
        "colab": {
          "base_uri": "https://localhost:8080/"
        },
        "outputId": "fa94f329-20aa-4f26-d853-eed0f59ff2af"
      },
      "source": [
        "# Two lists to hold language specified in file and another for predicted languages\n",
        "devoriginal_list = []\n",
        "devpred_list = []\n",
        "lid = LanguageIdentification()\n",
        "\n",
        "with open('/content/drive/MyDrive/lid_spaeng/dev.conll') as dev:\n",
        "  # num for number in enumerate and line for each line read\n",
        "  lines = dev.readlines()\n",
        "  for num, line in tqdm(enumerate(lines), total=len(lines)):\n",
        "    # Lines that start with #, sent enums and hashtags\n",
        "    if (line[0] == '#'):\n",
        "      continue\n",
        "    elif (line == '\\n'):  # skip separator lines too\n",
        "      continue\n",
        "    else:\n",
        "      word, lang = line.split() # split lines to word and language\n",
        "      if ((lang == 'other') or (lang == 'ambiguous') or (lang == 'unk') or (lang == 'mixed') or (lang == 'fw') or (lang == 'ne')): # Skip tokens with other language tags too: # Skip tokens with other language tags too\n",
        "        continue\n",
        "      else:\n",
        "        pred_lang = getLang(lid, word) # Use Fasttext to predict language of word and append it to a list\n",
        "        devpred_list.append(pred_lang)\n",
        "        devoriginal_list.append(lang)  # A list to hold the languages as specified in the file"
      ],
      "execution_count": 13,
      "outputs": [
        {
          "output_type": "stream",
          "name": "stderr",
          "text": [
            "Warning : `load_model` does not return WordVectorModel or SupervisedModel any more, but a `FastText` object which is very similar.\n",
            "100%|██████████| 47055/47055 [00:00<00:00, 114054.30it/s]\n"
          ]
        }
      ]
    },
    {
      "cell_type": "code",
      "metadata": {
        "colab": {
          "base_uri": "https://localhost:8080/"
        },
        "id": "8AA2j3nJFevT",
        "outputId": "e3120828-7f5f-4c8f-dc8b-6921d2ee6133"
      },
      "source": [
        "print(len(pred_list))\n",
        "print(len(original_list))\n",
        "\n",
        "print(len(devpred_list))\n",
        "print(len(devoriginal_list))"
      ],
      "execution_count": 14,
      "outputs": [
        {
          "output_type": "stream",
          "name": "stdout",
          "text": [
            "189265\n",
            "189265\n",
            "31405\n",
            "31405\n"
          ]
        }
      ]
    },
    {
      "cell_type": "code",
      "metadata": {
        "id": "R6yzLvA3zdt3"
      },
      "source": [
        "def compare(list1, list2):\n",
        "  if (len(list1) != len(list2)):\n",
        "    print(\"Lists are not the same length\")\n",
        "\n",
        "  list_len = len(list1)\n",
        "  correct = 0\n",
        "\n",
        "  for i in range(list_len):\n",
        "    if (list1[i] == list2[i]):\n",
        "      correct += 1\n",
        "  \n",
        "  diff = list_len - correct\n",
        "  print(\"Correct: \", correct)\n",
        "  print(\"Diff: \", diff)\n",
        "  print(float(correct)/float(list_len))  "
      ],
      "execution_count": 15,
      "outputs": []
    },
    {
      "cell_type": "code",
      "metadata": {
        "id": "j0VP1lHlzeIS",
        "outputId": "edcba924-ca6e-4066-884d-256de18bba72",
        "colab": {
          "base_uri": "https://localhost:8080/"
        }
      },
      "source": [
        "# Compare lists for train\n",
        "compare(pred_list, original_list)"
      ],
      "execution_count": 16,
      "outputs": [
        {
          "output_type": "stream",
          "name": "stdout",
          "text": [
            "Correct:  121021\n",
            "Diff:  68244\n",
            "0.6394262013578844\n"
          ]
        }
      ]
    },
    {
      "cell_type": "code",
      "metadata": {
        "colab": {
          "base_uri": "https://localhost:8080/"
        },
        "id": "a332DidpUIqA",
        "outputId": "256d9a75-0235-4551-ab05-ebc361845447"
      },
      "source": [
        "# Compare lists for dev\n",
        "compare(devpred_list, devoriginal_list)"
      ],
      "execution_count": 17,
      "outputs": [
        {
          "output_type": "stream",
          "name": "stdout",
          "text": [
            "Correct:  21127\n",
            "Diff:  10278\n",
            "0.6727272727272727\n"
          ]
        }
      ]
    },
    {
      "cell_type": "code",
      "metadata": {
        "id": "V7qZLxr9P7zK",
        "outputId": "02a2fa20-914d-4ee7-a0d2-65042dabc751",
        "colab": {
          "base_uri": "https://localhost:8080/"
        }
      },
      "source": [
        "from sklearn.metrics import f1_score\n",
        "import numpy as np\n",
        "\n",
        "f1_train = f1_score(np.array(original_list), np.array(pred_list), average='micro')\n",
        "print(f1_train)"
      ],
      "execution_count": 22,
      "outputs": [
        {
          "output_type": "stream",
          "name": "stdout",
          "text": [
            "0.6394262013578844\n"
          ]
        }
      ]
    },
    {
      "cell_type": "code",
      "metadata": {
        "id": "hOGqVEA8TKW1"
      },
      "source": [
        ""
      ],
      "execution_count": null,
      "outputs": []
    }
  ]
}