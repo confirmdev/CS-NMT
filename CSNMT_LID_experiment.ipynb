{
  "nbformat": 4,
  "nbformat_minor": 0,
  "metadata": {
    "colab": {
      "name": "CSNMT-LID-experiment.ipynb",
      "provenance": [],
      "authorship_tag": "ABX9TyMR1CPlWolkOT9/cynPJBvK"
    },
    "kernelspec": {
      "name": "python3",
      "display_name": "Python 3"
    },
    "language_info": {
      "name": "python"
    }
  },
  "cells": [
    {
      "cell_type": "markdown",
      "metadata": {
        "id": "NzgqiU3zgrAD"
      },
      "source": [
        "Using TextBlob to detect Language"
      ]
    },
    {
      "cell_type": "code",
      "metadata": {
        "id": "ijrkNe3zY02A"
      },
      "source": [
        "from textblob import TextBlob"
      ],
      "execution_count": 42,
      "outputs": []
    },
    {
      "cell_type": "code",
      "metadata": {
        "colab": {
          "base_uri": "https://localhost:8080/"
        },
        "id": "_ZlvpartemuF",
        "outputId": "586bc353-e603-4265-ebba-abf45c54ade0"
      },
      "source": [
        "word1 = TextBlob('Je va a la station')\n",
        "z = word1.detect_language()\n",
        "print(z)"
      ],
      "execution_count": 43,
      "outputs": [
        {
          "output_type": "stream",
          "text": [
            "fr\n"
          ],
          "name": "stdout"
        }
      ]
    },
    {
      "cell_type": "markdown",
      "metadata": {
        "id": "anL9gOYHglJk"
      },
      "source": [
        "Using Fasttext to detect Language\n"
      ]
    },
    {
      "cell_type": "code",
      "metadata": {
        "colab": {
          "base_uri": "https://localhost:8080/"
        },
        "id": "Qrz-wOlnem1J",
        "outputId": "b7efa9c1-f92a-4ee6-dcc3-0ea36f478899"
      },
      "source": [
        "pip install fasttext"
      ],
      "execution_count": 44,
      "outputs": [
        {
          "output_type": "stream",
          "text": [
            "Requirement already satisfied: fasttext in /usr/local/lib/python3.7/dist-packages (0.9.2)\n",
            "Requirement already satisfied: numpy in /usr/local/lib/python3.7/dist-packages (from fasttext) (1.19.5)\n",
            "Requirement already satisfied: setuptools>=0.7.0 in /usr/local/lib/python3.7/dist-packages (from fasttext) (57.4.0)\n",
            "Requirement already satisfied: pybind11>=2.2 in /usr/local/lib/python3.7/dist-packages (from fasttext) (2.7.1)\n"
          ],
          "name": "stdout"
        }
      ]
    },
    {
      "cell_type": "code",
      "metadata": {
        "colab": {
          "base_uri": "https://localhost:8080/"
        },
        "id": "_YupQOrijk4V",
        "outputId": "328ba1ef-2800-4348-f66d-9021578430c1"
      },
      "source": [
        "import fasttext\n",
        "fasttext.load_model(\"/content/lid.176.ftz\")"
      ],
      "execution_count": 45,
      "outputs": [
        {
          "output_type": "stream",
          "text": [
            "Warning : `load_model` does not return WordVectorModel or SupervisedModel any more, but a `FastText` object which is very similar.\n"
          ],
          "name": "stderr"
        },
        {
          "output_type": "execute_result",
          "data": {
            "text/plain": [
              "<fasttext.FastText._FastText at 0x7fd21f674410>"
            ]
          },
          "metadata": {},
          "execution_count": 45
        }
      ]
    },
    {
      "cell_type": "code",
      "metadata": {
        "colab": {
          "base_uri": "https://localhost:8080/"
        },
        "id": "1_z5LVDll5Fo",
        "outputId": "a7f36b25-0ded-47e8-8d10-8a7dcb3b1378"
      },
      "source": [
        "fasttext.FastText"
      ],
      "execution_count": 46,
      "outputs": [
        {
          "output_type": "execute_result",
          "data": {
            "text/plain": [
              "<module 'fasttext.FastText' from '/usr/local/lib/python3.7/dist-packages/fasttext/FastText.py'>"
            ]
          },
          "metadata": {},
          "execution_count": 46
        }
      ]
    },
    {
      "cell_type": "code",
      "metadata": {
        "colab": {
          "base_uri": "https://localhost:8080/"
        },
        "id": "RLpqPHsAlzUH",
        "outputId": "d35eb18f-54ec-4147-cc04-c686a994915b"
      },
      "source": [
        "%whos"
      ],
      "execution_count": 47,
      "outputs": [
        {
          "output_type": "stream",
          "text": [
            "Variable                 Type                      Data/Info\n",
            "------------------------------------------------------------\n",
            "LANGUAGE                 LanguageIdentification    <__main__.LanguageIdentif<...>object at 0x7fd21f70ca50>\n",
            "LanguageIdentification   type                      <class '__main__.LanguageIdentification'>\n",
            "TextBlob                 type                      <class 'textblob.blob.TextBlob'>\n",
            "fasttext                 module                    <module 'fasttext' from '<...>es/fasttext/__init__.py'>\n",
            "lang                     tuple                     n=2\n",
            "language                 LanguageIdentification    <__main__.LanguageIdentif<...>object at 0x7fd21f70cf10>\n",
            "pretrained_lang_model    str                       https://dl.fbaipublicfile<...>rvised-models/lid.176.bin\n",
            "word1                    TextBlob                  Je va a la station\n",
            "z                        str                       fr\n"
          ],
          "name": "stdout"
        }
      ]
    },
    {
      "cell_type": "code",
      "metadata": {
        "id": "CY-ajdrde307"
      },
      "source": [
        "class LanguageIdentification:\n",
        "\n",
        "    def __init__(self):\n",
        "        pretrained_lang_model = \"/content/lid.176.ftz\"\n",
        "        self.model = fasttext.load_model(pretrained_lang_model)\n",
        "\n",
        "    def predict_lang(self, text):\n",
        "        predictions = self.model.predict(text, k=2) # returns top 2 matching languages\n",
        "        return predictions"
      ],
      "execution_count": 49,
      "outputs": []
    },
    {
      "cell_type": "code",
      "metadata": {
        "colab": {
          "base_uri": "https://localhost:8080/"
        },
        "id": "eZNKEiVnjYL6",
        "outputId": "c043d106-61c4-4a17-8671-a89f8c49a81b"
      },
      "source": [
        "language = LanguageIdentification()\n",
        "language.predict_lang(\"This is AMMI!\")"
      ],
      "execution_count": 50,
      "outputs": [
        {
          "output_type": "stream",
          "text": [
            "Warning : `load_model` does not return WordVectorModel or SupervisedModel any more, but a `FastText` object which is very similar.\n"
          ],
          "name": "stderr"
        },
        {
          "output_type": "execute_result",
          "data": {
            "text/plain": [
              "(('__label__en', '__label__bn'), array([9.93069112e-01, 9.55639989e-04]))"
            ]
          },
          "metadata": {},
          "execution_count": 50
        }
      ]
    },
    {
      "cell_type": "code",
      "metadata": {
        "id": "iSnL31bqnCgI"
      },
      "source": [
        ""
      ],
      "execution_count": 50,
      "outputs": []
    }
  ]
}